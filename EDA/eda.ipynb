{
 "cells": [
  {
   "cell_type": "markdown",
   "metadata": {},
   "source": [
    "# Exploratory Data Analisys\n",
    "\n",
    "Prior to start the project, a exploratory data analisys is performed over the data to make sure the right data types for each column of the datasets"
   ]
  },
  {
   "cell_type": "code",
   "execution_count": 1,
   "metadata": {},
   "outputs": [
    {
     "name": "stderr",
     "output_type": "stream",
     "text": [
      "/home/juangrau/anaconda3/lib/python3.11/site-packages/pandas/core/arrays/masked.py:60: UserWarning: Pandas requires version '1.3.6' or newer of 'bottleneck' (version '1.3.5' currently installed).\n",
      "  from pandas.core import (\n"
     ]
    }
   ],
   "source": [
    "import pandas as pd\n",
    "import numpy as np"
   ]
  },
  {
   "cell_type": "code",
   "execution_count": 49,
   "metadata": {},
   "outputs": [],
   "source": [
    "# From the dog licensing dataset\n",
    "url = 'https://raw.githubusercontent.com/juangrau/project/master/datafiles/NYC_Dog_Licensing_Dataset_20240411.csv'\n",
    "df = pd.read_csv(url, na_values=['', 'ERROR: #VALUE!'])"
   ]
  },
  {
   "cell_type": "code",
   "execution_count": 50,
   "metadata": {},
   "outputs": [
    {
     "data": {
      "text/plain": [
       "Index(['AnimalName', 'AnimalGender', 'AnimalBirthYear', 'BreedName', 'ZipCode',\n",
       "       'LicenseIssuedDate', 'LicenseExpiredDate', 'Extract Year'],\n",
       "      dtype='object')"
      ]
     },
     "execution_count": 50,
     "metadata": {},
     "output_type": "execute_result"
    }
   ],
   "source": [
    "#df.info()\n",
    "df.columns"
   ]
  },
  {
   "cell_type": "markdown",
   "metadata": {},
   "source": [
    "In order to handle a cleaner dataset, I decided to just drop rows that contains NAN values"
   ]
  },
  {
   "cell_type": "code",
   "execution_count": 65,
   "metadata": {},
   "outputs": [
    {
     "name": "stdout",
     "output_type": "stream",
     "text": [
      "<class 'pandas.core.frame.DataFrame'>\n",
      "Index: 615362 entries, 0 to 616889\n",
      "Data columns (total 8 columns):\n",
      " #   Column              Non-Null Count   Dtype  \n",
      "---  ------              --------------   -----  \n",
      " 0   AnimalName          615362 non-null  object \n",
      " 1   AnimalGender        615362 non-null  object \n",
      " 2   AnimalBirthYear     615362 non-null  float64\n",
      " 3   BreedName           615362 non-null  object \n",
      " 4   ZipCode             615362 non-null  float64\n",
      " 5   LicenseIssuedDate   615362 non-null  object \n",
      " 6   LicenseExpiredDate  615362 non-null  object \n",
      " 7   Extract Year        615362 non-null  int64  \n",
      "dtypes: float64(2), int64(1), object(5)\n",
      "memory usage: 42.3+ MB\n"
     ]
    }
   ],
   "source": [
    "df = df.dropna()\n",
    "df.info()"
   ]
  },
  {
   "cell_type": "markdown",
   "metadata": {},
   "source": [
    "Then exported the result to have a cleaner file to be used on Mage for ingesting the data into GCP"
   ]
  },
  {
   "cell_type": "code",
   "execution_count": 67,
   "metadata": {},
   "outputs": [],
   "source": [
    "df.to_csv('./NYC_Dog_Licensing_Dataset_20240411.csv')"
   ]
  },
  {
   "cell_type": "code",
   "execution_count": null,
   "metadata": {},
   "outputs": [],
   "source": []
  },
  {
   "cell_type": "code",
   "execution_count": 95,
   "metadata": {},
   "outputs": [],
   "source": [
    "rows = df[df['BreedName'].str.contains('Mix')].index.values"
   ]
  },
  {
   "cell_type": "code",
   "execution_count": 97,
   "metadata": {},
   "outputs": [],
   "source": [
    "rows = list(rows)"
   ]
  },
  {
   "cell_type": "code",
   "execution_count": 99,
   "metadata": {},
   "outputs": [
    {
     "data": {
      "text/plain": [
       "list"
      ]
     },
     "execution_count": 99,
     "metadata": {},
     "output_type": "execute_result"
    }
   ],
   "source": [
    "type(rows)"
   ]
  },
  {
   "cell_type": "code",
   "execution_count": null,
   "metadata": {},
   "outputs": [],
   "source": []
  },
  {
   "cell_type": "code",
   "execution_count": null,
   "metadata": {},
   "outputs": [],
   "source": []
  },
  {
   "cell_type": "code",
   "execution_count": null,
   "metadata": {},
   "outputs": [],
   "source": []
  },
  {
   "cell_type": "code",
   "execution_count": null,
   "metadata": {},
   "outputs": [],
   "source": []
  },
  {
   "cell_type": "code",
   "execution_count": null,
   "metadata": {},
   "outputs": [],
   "source": []
  },
  {
   "cell_type": "markdown",
   "metadata": {},
   "source": [
    "Now lets load the second dataset"
   ]
  },
  {
   "cell_type": "code",
   "execution_count": 7,
   "metadata": {},
   "outputs": [],
   "source": [
    "# From the dog licensing dataset\n",
    "url2 = 'https://github.com/juangrau/project/raw/master/datafiles/akc-data-latest.csv'\n",
    "akc_df = pd.read_csv(url2)"
   ]
  },
  {
   "cell_type": "code",
   "execution_count": 73,
   "metadata": {},
   "outputs": [
    {
     "name": "stdout",
     "output_type": "stream",
     "text": [
      "<class 'pandas.core.frame.DataFrame'>\n",
      "RangeIndex: 277 entries, 0 to 276\n",
      "Data columns (total 21 columns):\n",
      " #   Column                       Non-Null Count  Dtype  \n",
      "---  ------                       --------------  -----  \n",
      " 0   breed_name                   277 non-null    object \n",
      " 1   description                  277 non-null    object \n",
      " 2   temperament                  276 non-null    object \n",
      " 3   popularity                   198 non-null    object \n",
      " 4   min_height                   277 non-null    float64\n",
      " 5   max_height                   277 non-null    float64\n",
      " 6   min_weight                   275 non-null    float64\n",
      " 7   max_weight                   275 non-null    float64\n",
      " 8   min_expectancy               274 non-null    float64\n",
      " 9   max_expectancy               274 non-null    float64\n",
      " 10  group                        277 non-null    object \n",
      " 11  grooming_frequency_value     270 non-null    float64\n",
      " 12  grooming_frequency_category  270 non-null    object \n",
      " 13  shedding_value               257 non-null    float64\n",
      " 14  shedding_category            257 non-null    object \n",
      " 15  energy_level_value           271 non-null    float64\n",
      " 16  energy_level_category        271 non-null    object \n",
      " 17  trainability_value           253 non-null    float64\n",
      " 18  trainability_category        253 non-null    object \n",
      " 19  demeanor_value               252 non-null    float64\n",
      " 20  demeanor_category            252 non-null    object \n",
      "dtypes: float64(11), object(10)\n",
      "memory usage: 45.6+ KB\n"
     ]
    }
   ],
   "source": [
    "akc_df.info()"
   ]
  },
  {
   "cell_type": "code",
   "execution_count": 81,
   "metadata": {},
   "outputs": [
    {
     "name": "stdout",
     "output_type": "stream",
     "text": [
      "breed_name: ,\n",
      "description: ,\n",
      "temperament: ,\n",
      "popularity: ,\n",
      "min_height: ,\n",
      "max_height: ,\n",
      "min_weight: ,\n",
      "max_weight: ,\n",
      "min_expectancy: ,\n",
      "max_expectancy: ,\n",
      "group: ,\n",
      "grooming_frequency_value: ,\n",
      "grooming_frequency_category: ,\n",
      "shedding_value: ,\n",
      "shedding_category: ,\n",
      "energy_level_value: ,\n",
      "energy_level_category: ,\n",
      "trainability_value: ,\n",
      "trainability_category: ,\n",
      "demeanor_value: ,\n",
      "demeanor_category: ,\n"
     ]
    }
   ],
   "source": [
    "for column in akc_df.columns:\n",
    "    print(column + \": ,\")"
   ]
  },
  {
   "cell_type": "markdown",
   "metadata": {},
   "source": [
    "I see no problem with the Dtypes on this dataframe so no changes a required for ingesting the data on Mage"
   ]
  },
  {
   "cell_type": "code",
   "execution_count": 9,
   "metadata": {},
   "outputs": [
    {
     "data": {
      "text/plain": [
       "array(['2-3 Times a Week Brushing', 'Daily Brushing',\n",
       "       'Occasional Bath/Brush', 'Weekly Brushing', nan,\n",
       "       'Specialty/Professional'], dtype=object)"
      ]
     },
     "execution_count": 9,
     "metadata": {},
     "output_type": "execute_result"
    }
   ],
   "source": [
    "akc_df['grooming_frequency_category'].unique()"
   ]
  },
  {
   "cell_type": "code",
   "execution_count": 10,
   "metadata": {},
   "outputs": [
    {
     "data": {
      "text/plain": [
       "37     1.0\n",
       "150    1.0\n",
       "168    1.0\n",
       "196    1.0\n",
       "197    1.0\n",
       "Name: grooming_frequency_value, dtype: float64"
      ]
     },
     "execution_count": 10,
     "metadata": {},
     "output_type": "execute_result"
    }
   ],
   "source": [
    "# Lets find out what is the grooming_frequency_value for the 'Specialty/Professional' category\n",
    "akc_df[akc_df['grooming_frequency_category']=='Specialty/Professional']['grooming_frequency_value'].head()"
   ]
  },
  {
   "cell_type": "markdown",
   "metadata": {},
   "source": [
    "Based on this result all the dog breeds that requires professional grooming services are the ones that has a grooming frequency value of 1.0\n",
    "\n",
    "These are the breeds that will get our interest during the project"
   ]
  }
 ],
 "metadata": {
  "kernelspec": {
   "display_name": "base",
   "language": "python",
   "name": "python3"
  },
  "language_info": {
   "codemirror_mode": {
    "name": "ipython",
    "version": 3
   },
   "file_extension": ".py",
   "mimetype": "text/x-python",
   "name": "python",
   "nbconvert_exporter": "python",
   "pygments_lexer": "ipython3",
   "version": "3.11.5"
  }
 },
 "nbformat": 4,
 "nbformat_minor": 2
}
