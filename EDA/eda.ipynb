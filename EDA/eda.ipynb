{
 "cells": [
  {
   "cell_type": "markdown",
   "metadata": {},
   "source": [
    "# Exploratory Data Analisys\n",
    "\n",
    "Prior to start the project, a exploratory data analisys is performed over the data to make sure the right data types for each column of the datasets"
   ]
  },
  {
   "cell_type": "code",
   "execution_count": 1,
   "metadata": {},
   "outputs": [
    {
     "name": "stderr",
     "output_type": "stream",
     "text": [
      "/home/juangrau/anaconda3/lib/python3.11/site-packages/pandas/core/arrays/masked.py:60: UserWarning: Pandas requires version '1.3.6' or newer of 'bottleneck' (version '1.3.5' currently installed).\n",
      "  from pandas.core import (\n"
     ]
    }
   ],
   "source": [
    "import pandas as pd\n",
    "import numpy as np"
   ]
  },
  {
   "cell_type": "code",
   "execution_count": 49,
   "metadata": {},
   "outputs": [],
   "source": [
    "# From the dog licensing dataset\n",
    "url = 'https://raw.githubusercontent.com/juangrau/project/master/datafiles/NYC_Dog_Licensing_Dataset_20240411.csv'\n",
    "df = pd.read_csv(url, na_values=['', 'ERROR: #VALUE!'])"
   ]
  },
  {
   "cell_type": "code",
   "execution_count": 50,
   "metadata": {},
   "outputs": [
    {
     "data": {
      "text/plain": [
       "Index(['AnimalName', 'AnimalGender', 'AnimalBirthYear', 'BreedName', 'ZipCode',\n",
       "       'LicenseIssuedDate', 'LicenseExpiredDate', 'Extract Year'],\n",
       "      dtype='object')"
      ]
     },
     "execution_count": 50,
     "metadata": {},
     "output_type": "execute_result"
    }
   ],
   "source": [
    "#df.info()\n",
    "df.columns"
   ]
  },
  {
   "cell_type": "code",
   "execution_count": 65,
   "metadata": {},
   "outputs": [
    {
     "name": "stdout",
     "output_type": "stream",
     "text": [
      "<class 'pandas.core.frame.DataFrame'>\n",
      "Index: 615362 entries, 0 to 616889\n",
      "Data columns (total 8 columns):\n",
      " #   Column              Non-Null Count   Dtype  \n",
      "---  ------              --------------   -----  \n",
      " 0   AnimalName          615362 non-null  object \n",
      " 1   AnimalGender        615362 non-null  object \n",
      " 2   AnimalBirthYear     615362 non-null  float64\n",
      " 3   BreedName           615362 non-null  object \n",
      " 4   ZipCode             615362 non-null  float64\n",
      " 5   LicenseIssuedDate   615362 non-null  object \n",
      " 6   LicenseExpiredDate  615362 non-null  object \n",
      " 7   Extract Year        615362 non-null  int64  \n",
      "dtypes: float64(2), int64(1), object(5)\n",
      "memory usage: 42.3+ MB\n"
     ]
    }
   ],
   "source": [
    "df = df.dropna()\n",
    "df.info()"
   ]
  },
  {
   "cell_type": "code",
   "execution_count": 67,
   "metadata": {},
   "outputs": [],
   "source": [
    "df.to_csv('./NYC_Dog_Licensing_Dataset_20240411.csv')"
   ]
  },
  {
   "cell_type": "code",
   "execution_count": 68,
   "metadata": {},
   "outputs": [],
   "source": [
    "dog_licensing_dtypes = {\n",
    "    'AnimalName': str, \n",
    "    'AnimalGender': str, \n",
    "    'AnimalBirthYear': int, \n",
    "    'BreedName': str, \n",
    "    'ZipCode': int,\n",
    "    'Extract Year': int \n",
    "}"
   ]
  },
  {
   "cell_type": "code",
   "execution_count": 69,
   "metadata": {},
   "outputs": [],
   "source": [
    "parse_dates = ['LicenseIssuedDate', 'LicenseExpiredDate']"
   ]
  },
  {
   "cell_type": "code",
   "execution_count": 70,
   "metadata": {},
   "outputs": [],
   "source": [
    "dog_licensing_df = pd.read_csv('./NYC_Dog_Licensing_Dataset_20240411.csv', parse_dates=parse_dates, dtype=dog_licensing_dtypes)"
   ]
  },
  {
   "cell_type": "code",
   "execution_count": 72,
   "metadata": {},
   "outputs": [
    {
     "name": "stdout",
     "output_type": "stream",
     "text": [
      "<class 'pandas.core.frame.DataFrame'>\n",
      "RangeIndex: 615362 entries, 0 to 615361\n",
      "Data columns (total 9 columns):\n",
      " #   Column              Non-Null Count   Dtype         \n",
      "---  ------              --------------   -----         \n",
      " 0   Unnamed: 0          615362 non-null  int64         \n",
      " 1   AnimalName          615362 non-null  object        \n",
      " 2   AnimalGender        615362 non-null  object        \n",
      " 3   AnimalBirthYear     615362 non-null  int64         \n",
      " 4   BreedName           615362 non-null  object        \n",
      " 5   ZipCode             615362 non-null  int64         \n",
      " 6   LicenseIssuedDate   615362 non-null  datetime64[ns]\n",
      " 7   LicenseExpiredDate  615362 non-null  datetime64[ns]\n",
      " 8   Extract Year        615362 non-null  int64         \n",
      "dtypes: datetime64[ns](2), int64(4), object(3)\n",
      "memory usage: 42.3+ MB\n"
     ]
    }
   ],
   "source": [
    "dog_licensing_df.info()"
   ]
  },
  {
   "cell_type": "markdown",
   "metadata": {},
   "source": [
    "Now lets load the second dataset"
   ]
  },
  {
   "cell_type": "code",
   "execution_count": 7,
   "metadata": {},
   "outputs": [],
   "source": [
    "# From the dog licensing dataset\n",
    "url2 = 'https://github.com/juangrau/project/raw/master/datafiles/akc-data-latest.csv'\n",
    "akc_df = pd.read_csv(url2)"
   ]
  },
  {
   "cell_type": "code",
   "execution_count": 8,
   "metadata": {},
   "outputs": [
    {
     "data": {
      "text/html": [
       "<div>\n",
       "<style scoped>\n",
       "    .dataframe tbody tr th:only-of-type {\n",
       "        vertical-align: middle;\n",
       "    }\n",
       "\n",
       "    .dataframe tbody tr th {\n",
       "        vertical-align: top;\n",
       "    }\n",
       "\n",
       "    .dataframe thead th {\n",
       "        text-align: right;\n",
       "    }\n",
       "</style>\n",
       "<table border=\"1\" class=\"dataframe\">\n",
       "  <thead>\n",
       "    <tr style=\"text-align: right;\">\n",
       "      <th></th>\n",
       "      <th>breed_name</th>\n",
       "      <th>description</th>\n",
       "      <th>temperament</th>\n",
       "      <th>popularity</th>\n",
       "      <th>min_height</th>\n",
       "      <th>max_height</th>\n",
       "      <th>min_weight</th>\n",
       "      <th>max_weight</th>\n",
       "      <th>min_expectancy</th>\n",
       "      <th>max_expectancy</th>\n",
       "      <th>...</th>\n",
       "      <th>grooming_frequency_value</th>\n",
       "      <th>grooming_frequency_category</th>\n",
       "      <th>shedding_value</th>\n",
       "      <th>shedding_category</th>\n",
       "      <th>energy_level_value</th>\n",
       "      <th>energy_level_category</th>\n",
       "      <th>trainability_value</th>\n",
       "      <th>trainability_category</th>\n",
       "      <th>demeanor_value</th>\n",
       "      <th>demeanor_category</th>\n",
       "    </tr>\n",
       "  </thead>\n",
       "  <tbody>\n",
       "    <tr>\n",
       "      <th>0</th>\n",
       "      <td>Affenpinscher</td>\n",
       "      <td>The Affen’s apish look has been described many...</td>\n",
       "      <td>Confident, Famously Funny, Fearless</td>\n",
       "      <td>148</td>\n",
       "      <td>22.86</td>\n",
       "      <td>29.21</td>\n",
       "      <td>3.175147</td>\n",
       "      <td>4.535924</td>\n",
       "      <td>12.0</td>\n",
       "      <td>15.0</td>\n",
       "      <td>...</td>\n",
       "      <td>0.6</td>\n",
       "      <td>2-3 Times a Week Brushing</td>\n",
       "      <td>0.6</td>\n",
       "      <td>Seasonal</td>\n",
       "      <td>0.6</td>\n",
       "      <td>Regular Exercise</td>\n",
       "      <td>0.8</td>\n",
       "      <td>Easy Training</td>\n",
       "      <td>1.0</td>\n",
       "      <td>Outgoing</td>\n",
       "    </tr>\n",
       "    <tr>\n",
       "      <th>1</th>\n",
       "      <td>Afghan Hound</td>\n",
       "      <td>The Afghan Hound is an ancient breed, his whol...</td>\n",
       "      <td>Dignified, Profoundly Loyal, Aristocratic</td>\n",
       "      <td>113</td>\n",
       "      <td>63.50</td>\n",
       "      <td>68.58</td>\n",
       "      <td>22.679619</td>\n",
       "      <td>27.215542</td>\n",
       "      <td>12.0</td>\n",
       "      <td>15.0</td>\n",
       "      <td>...</td>\n",
       "      <td>0.8</td>\n",
       "      <td>Daily Brushing</td>\n",
       "      <td>0.2</td>\n",
       "      <td>Infrequent</td>\n",
       "      <td>0.8</td>\n",
       "      <td>Energetic</td>\n",
       "      <td>0.2</td>\n",
       "      <td>May be Stubborn</td>\n",
       "      <td>0.2</td>\n",
       "      <td>Aloof/Wary</td>\n",
       "    </tr>\n",
       "    <tr>\n",
       "      <th>2</th>\n",
       "      <td>Airedale Terrier</td>\n",
       "      <td>The Airedale Terrier is the largest of all ter...</td>\n",
       "      <td>Friendly, Clever, Courageous</td>\n",
       "      <td>60</td>\n",
       "      <td>58.42</td>\n",
       "      <td>58.42</td>\n",
       "      <td>22.679619</td>\n",
       "      <td>31.751466</td>\n",
       "      <td>11.0</td>\n",
       "      <td>14.0</td>\n",
       "      <td>...</td>\n",
       "      <td>0.6</td>\n",
       "      <td>2-3 Times a Week Brushing</td>\n",
       "      <td>0.4</td>\n",
       "      <td>Occasional</td>\n",
       "      <td>0.6</td>\n",
       "      <td>Regular Exercise</td>\n",
       "      <td>1.0</td>\n",
       "      <td>Eager to Please</td>\n",
       "      <td>0.8</td>\n",
       "      <td>Friendly</td>\n",
       "    </tr>\n",
       "  </tbody>\n",
       "</table>\n",
       "<p>3 rows × 21 columns</p>\n",
       "</div>"
      ],
      "text/plain": [
       "         breed_name                                        description  \\\n",
       "0     Affenpinscher  The Affen’s apish look has been described many...   \n",
       "1      Afghan Hound  The Afghan Hound is an ancient breed, his whol...   \n",
       "2  Airedale Terrier  The Airedale Terrier is the largest of all ter...   \n",
       "\n",
       "                                 temperament popularity  min_height  \\\n",
       "0        Confident, Famously Funny, Fearless        148       22.86   \n",
       "1  Dignified, Profoundly Loyal, Aristocratic        113       63.50   \n",
       "2               Friendly, Clever, Courageous         60       58.42   \n",
       "\n",
       "   max_height  min_weight  max_weight  min_expectancy  max_expectancy  ...  \\\n",
       "0       29.21    3.175147    4.535924            12.0            15.0  ...   \n",
       "1       68.58   22.679619   27.215542            12.0            15.0  ...   \n",
       "2       58.42   22.679619   31.751466            11.0            14.0  ...   \n",
       "\n",
       "  grooming_frequency_value  grooming_frequency_category shedding_value  \\\n",
       "0                      0.6    2-3 Times a Week Brushing            0.6   \n",
       "1                      0.8               Daily Brushing            0.2   \n",
       "2                      0.6    2-3 Times a Week Brushing            0.4   \n",
       "\n",
       "   shedding_category energy_level_value  energy_level_category  \\\n",
       "0           Seasonal                0.6       Regular Exercise   \n",
       "1         Infrequent                0.8              Energetic   \n",
       "2         Occasional                0.6       Regular Exercise   \n",
       "\n",
       "  trainability_value  trainability_category demeanor_value  demeanor_category  \n",
       "0                0.8          Easy Training            1.0           Outgoing  \n",
       "1                0.2        May be Stubborn            0.2         Aloof/Wary  \n",
       "2                1.0        Eager to Please            0.8           Friendly  \n",
       "\n",
       "[3 rows x 21 columns]"
      ]
     },
     "execution_count": 8,
     "metadata": {},
     "output_type": "execute_result"
    }
   ],
   "source": [
    "akc_df.head(3)"
   ]
  },
  {
   "cell_type": "code",
   "execution_count": 9,
   "metadata": {},
   "outputs": [
    {
     "data": {
      "text/plain": [
       "array(['2-3 Times a Week Brushing', 'Daily Brushing',\n",
       "       'Occasional Bath/Brush', 'Weekly Brushing', nan,\n",
       "       'Specialty/Professional'], dtype=object)"
      ]
     },
     "execution_count": 9,
     "metadata": {},
     "output_type": "execute_result"
    }
   ],
   "source": [
    "akc_df['grooming_frequency_category'].unique()"
   ]
  },
  {
   "cell_type": "code",
   "execution_count": 10,
   "metadata": {},
   "outputs": [
    {
     "data": {
      "text/plain": [
       "37     1.0\n",
       "150    1.0\n",
       "168    1.0\n",
       "196    1.0\n",
       "197    1.0\n",
       "Name: grooming_frequency_value, dtype: float64"
      ]
     },
     "execution_count": 10,
     "metadata": {},
     "output_type": "execute_result"
    }
   ],
   "source": [
    "# Lets find out what is the grooming_frequency_value for the 'Specialty/Professional' category\n",
    "akc_df[akc_df['grooming_frequency_category']=='Specialty/Professional']['grooming_frequency_value'].head()"
   ]
  },
  {
   "cell_type": "markdown",
   "metadata": {},
   "source": [
    "Based on this result all the dog breeds that requires professional grooming services are the ones that has a grooming frequency value of 1.0\n",
    "\n",
    "These are the breeds that will get our interest during the project"
   ]
  }
 ],
 "metadata": {
  "kernelspec": {
   "display_name": "base",
   "language": "python",
   "name": "python3"
  },
  "language_info": {
   "codemirror_mode": {
    "name": "ipython",
    "version": 3
   },
   "file_extension": ".py",
   "mimetype": "text/x-python",
   "name": "python",
   "nbconvert_exporter": "python",
   "pygments_lexer": "ipython3",
   "version": "3.11.5"
  }
 },
 "nbformat": 4,
 "nbformat_minor": 2
}
